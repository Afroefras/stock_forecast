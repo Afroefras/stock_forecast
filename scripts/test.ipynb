{
 "metadata": {
  "language_info": {
   "codemirror_mode": {
    "name": "ipython",
    "version": 3
   },
   "file_extension": ".py",
   "mimetype": "text/x-python",
   "name": "python",
   "nbconvert_exporter": "python",
   "pygments_lexer": "ipython3",
   "version": "3.9.1"
  },
  "orig_nbformat": 4,
  "kernelspec": {
   "name": "python3",
   "display_name": "Python 3.9.1 64-bit ('stock_venv': venv)"
  },
  "interpreter": {
   "hash": "dee9f6bc1946cc5441582c9aa259c2b69ee5e17f158441e1c5dcb57411c2e483"
  }
 },
 "nbformat": 4,
 "nbformat_minor": 2,
 "cells": [
  {
   "cell_type": "markdown",
   "source": [
    "# Stock Forecast"
   ],
   "metadata": {}
  },
  {
   "cell_type": "markdown",
   "source": [
    "## Environment"
   ],
   "metadata": {}
  },
  {
   "cell_type": "code",
   "execution_count": 17,
   "source": [
    "from pathlib import Path\n",
    "from pandas import read_csv, to_datetime, cut, DataFrame, date_range"
   ],
   "outputs": [],
   "metadata": {}
  },
  {
   "cell_type": "markdown",
   "source": [
    "## Parameters"
   ],
   "metadata": {}
  },
  {
   "cell_type": "code",
   "execution_count": 2,
   "source": [
    "BASE_DIR = '/Users/efraflores/Desktop/EF/Corner/Catalog/Stock_fcst/'\n",
    "FILE_NAME = 'op_9988.csv'\n",
    "PRODUCT_ID_COL = 'product_id'\n",
    "DATE_COL = 'actual_delivery_time'\n",
    "REQUESTED_COL = 'quantity'\n",
    "FOUND_COL = 'quantity_found'\n",
    "TIMEWINDOWS = [-1,8,10,11,13,15,17,19,21,23]\n",
    "VALIDATION_SIZE = 0.1"
   ],
   "outputs": [],
   "metadata": {}
  },
  {
   "cell_type": "markdown",
   "source": [
    "## Import"
   ],
   "metadata": {}
  },
  {
   "cell_type": "code",
   "execution_count": 3,
   "source": [
    "df = read_csv(Path(BASE_DIR).joinpath(FILE_NAME))\n",
    "print(len(df))\n",
    "display(df.sample())"
   ],
   "outputs": [
    {
     "output_type": "stream",
     "name": "stdout",
     "text": [
      "220139\n"
     ]
    },
    {
     "output_type": "display_data",
     "data": {
      "text/plain": [
       "            actual_delivery_time  product_id  quantity  quantity_found\n",
       "4974  2021-04-05T19:39:08.892734     2115229       1.5           2.645"
      ],
      "text/html": [
       "<div>\n",
       "<style scoped>\n",
       "    .dataframe tbody tr th:only-of-type {\n",
       "        vertical-align: middle;\n",
       "    }\n",
       "\n",
       "    .dataframe tbody tr th {\n",
       "        vertical-align: top;\n",
       "    }\n",
       "\n",
       "    .dataframe thead th {\n",
       "        text-align: right;\n",
       "    }\n",
       "</style>\n",
       "<table border=\"1\" class=\"dataframe\">\n",
       "  <thead>\n",
       "    <tr style=\"text-align: right;\">\n",
       "      <th></th>\n",
       "      <th>actual_delivery_time</th>\n",
       "      <th>product_id</th>\n",
       "      <th>quantity</th>\n",
       "      <th>quantity_found</th>\n",
       "    </tr>\n",
       "  </thead>\n",
       "  <tbody>\n",
       "    <tr>\n",
       "      <th>4974</th>\n",
       "      <td>2021-04-05T19:39:08.892734</td>\n",
       "      <td>2115229</td>\n",
       "      <td>1.5</td>\n",
       "      <td>2.645</td>\n",
       "    </tr>\n",
       "  </tbody>\n",
       "</table>\n",
       "</div>"
      ]
     },
     "metadata": {}
    }
   ],
   "metadata": {}
  },
  {
   "cell_type": "markdown",
   "source": [
    "## Validation split"
   ],
   "metadata": {}
  },
  {
   "cell_type": "code",
   "execution_count": 4,
   "source": [
    "df.sort_values(DATE_COL, inplace=True)\n",
    "row_limit = int(len(df)*VALIDATION_SIZE)\n",
    "val = df.iloc[:row_limit,:]\n",
    "df = df.iloc[-row_limit:,:]"
   ],
   "outputs": [],
   "metadata": {}
  },
  {
   "cell_type": "markdown",
   "source": [
    "## Functions"
   ],
   "metadata": {}
  },
  {
   "cell_type": "markdown",
   "source": [
    "### Timewindows"
   ],
   "metadata": {}
  },
  {
   "cell_type": "code",
   "execution_count": 8,
   "source": [
    "def set_timewindows(data, date_col, timewindows, datetime_format='%Y-%m-%dT%H:%M:%S'):\n",
    "    df = data.copy()\n",
    "    df[date_col] = to_datetime(df[date_col], format=datetime_format)\n",
    "    df[['date','time']] = df[date_col].astype(str).str.split(expand=True)\n",
    "    df['date'] = to_datetime(df['date'])\n",
    "    df['time'] = df['time'].apply(lambda x: x[:8])\n",
    "    df['timewindow'] = cut(df[date_col].dt.hour, bins=timewindows)\n",
    "    df['timewindow'] = df['timewindow'].apply(lambda x: str(x.left+1).zfill(2)+':00 a '+str(x.right).zfill(2)+':59')\n",
    "    timewindows = DataFrame(set(df['timewindow']),columns=['timewindow']).sort_values('timewindow').reset_index(drop=True)\n",
    "    return df, timewindows\n",
    "\n",
    "# test,timewindows = set_timewindows(df, DATE_COL, TIMEWINDOWS)\n",
    "# print(timewindows)\n",
    "# test.sample()"
   ],
   "outputs": [],
   "metadata": {}
  },
  {
   "cell_type": "code",
   "execution_count": 6,
   "source": [
    "def qty_acum(data, id_col, requested_col, found_col, date_col='date', timewindow_col='timewindow'):\n",
    "    df = data.copy()\n",
    "    df = df.groupby([id_col, date_col, timewindow_col])[[requested_col, found_col]].sum().reset_index()\n",
    "    #df['fr'] = df[found_col] / (df[requested_col]+1e-10)\n",
    "    df.sort_values([id_col, date_col], inplace=True)\n",
    "    for col in [requested_col, found_col]:\n",
    "        df[f'acum_{col}'] = df.groupby([id_col, date_col])[col].cumsum()\n",
    "    return df\n",
    "\n",
    "# test,timewindows = set_timewindows(df, DATE_COL, TIMEWINDOWS)\n",
    "# test = qty_acum(test, PRODUCT_ID_COL, REQUESTED_COL, FOUND_COL)\n",
    "# test.head()"
   ],
   "outputs": [],
   "metadata": {}
  },
  {
   "cell_type": "code",
   "execution_count": 31,
   "source": [
    "def full_dates(data, timewindows, id_col, date_col='date'):\n",
    "    df = data.copy()\n",
    "    total = DataFrame()\n",
    "    df[date_col] = df[date_col].astype(str)\n",
    "    for row in set(df[id_col]):\n",
    "        #Set the id_col as index (again) to call all the rows with that id_col\n",
    "        df_id = df.set_index(id_col).loc[row,:]\n",
    "        #All possible dates from the min to the max of the subset\n",
    "        tot_dates = DataFrame(date_range(start=df_id[date_col].min(), end=df_id[date_col].max()).date, columns=[date_col]).astype(str)\n",
    "        #All possible timewindows for every date\n",
    "        tot_tw = DataFrame()\n",
    "        for date in tot_dates[date_col]:\n",
    "            aux = DataFrame([(date,x) for x in timewindows['timewindow']], columns=[date_col,'timewindow'])\n",
    "            tot_tw = tot_tw.append(aux)\n",
    "        \n",
    "        df_id = df_id.merge(tot_tw, on=[date_col,'timewindow'], how='right').fillna(0) ######## FILL THE VALUE ABOVE\n",
    "        total = total.append(df_id)\n",
    "    return total\n",
    "\n",
    "test,timewindows = set_timewindows(df.sample(frac=.1), DATE_COL, TIMEWINDOWS)\n",
    "test = qty_acum(test, PRODUCT_ID_COL, REQUESTED_COL, FOUND_COL)\n",
    "test = full_dates(test, timewindows, PRODUCT_ID_COL)\n",
    "test"
   ],
   "outputs": [
    {
     "output_type": "execute_result",
     "data": {
      "text/plain": [
       "           date     timewindow  quantity  quantity_found  acum_quantity  \\\n",
       "0    2021-07-06  00:00 a 08:59       0.0             0.0            0.0   \n",
       "1    2021-07-06  09:00 a 10:59       0.0             0.0            0.0   \n",
       "2    2021-07-06  11:00 a 11:59       0.0             0.0            0.0   \n",
       "3    2021-07-06  12:00 a 13:59       0.0             0.0            0.0   \n",
       "4    2021-07-06  14:00 a 15:59       0.0             0.0            0.0   \n",
       "..          ...            ...       ...             ...            ...   \n",
       "112  2021-07-18  14:00 a 15:59       0.0             0.0            0.0   \n",
       "113  2021-07-18  16:00 a 17:59       0.0             0.0            0.0   \n",
       "114  2021-07-18  18:00 a 19:59       0.0             0.0            0.0   \n",
       "115  2021-07-18  20:00 a 21:59       0.0             0.0            0.0   \n",
       "116  2021-07-18  22:00 a 23:59       0.0             0.0            0.0   \n",
       "\n",
       "     acum_quantity_found  \n",
       "0                    0.0  \n",
       "1                    0.0  \n",
       "2                    0.0  \n",
       "3                    0.0  \n",
       "4                    0.0  \n",
       "..                   ...  \n",
       "112                  0.0  \n",
       "113                  0.0  \n",
       "114                  0.0  \n",
       "115                  0.0  \n",
       "116                  0.0  \n",
       "\n",
       "[159471 rows x 6 columns]"
      ],
      "text/html": [
       "<div>\n",
       "<style scoped>\n",
       "    .dataframe tbody tr th:only-of-type {\n",
       "        vertical-align: middle;\n",
       "    }\n",
       "\n",
       "    .dataframe tbody tr th {\n",
       "        vertical-align: top;\n",
       "    }\n",
       "\n",
       "    .dataframe thead th {\n",
       "        text-align: right;\n",
       "    }\n",
       "</style>\n",
       "<table border=\"1\" class=\"dataframe\">\n",
       "  <thead>\n",
       "    <tr style=\"text-align: right;\">\n",
       "      <th></th>\n",
       "      <th>date</th>\n",
       "      <th>timewindow</th>\n",
       "      <th>quantity</th>\n",
       "      <th>quantity_found</th>\n",
       "      <th>acum_quantity</th>\n",
       "      <th>acum_quantity_found</th>\n",
       "    </tr>\n",
       "  </thead>\n",
       "  <tbody>\n",
       "    <tr>\n",
       "      <th>0</th>\n",
       "      <td>2021-07-06</td>\n",
       "      <td>00:00 a 08:59</td>\n",
       "      <td>0.0</td>\n",
       "      <td>0.0</td>\n",
       "      <td>0.0</td>\n",
       "      <td>0.0</td>\n",
       "    </tr>\n",
       "    <tr>\n",
       "      <th>1</th>\n",
       "      <td>2021-07-06</td>\n",
       "      <td>09:00 a 10:59</td>\n",
       "      <td>0.0</td>\n",
       "      <td>0.0</td>\n",
       "      <td>0.0</td>\n",
       "      <td>0.0</td>\n",
       "    </tr>\n",
       "    <tr>\n",
       "      <th>2</th>\n",
       "      <td>2021-07-06</td>\n",
       "      <td>11:00 a 11:59</td>\n",
       "      <td>0.0</td>\n",
       "      <td>0.0</td>\n",
       "      <td>0.0</td>\n",
       "      <td>0.0</td>\n",
       "    </tr>\n",
       "    <tr>\n",
       "      <th>3</th>\n",
       "      <td>2021-07-06</td>\n",
       "      <td>12:00 a 13:59</td>\n",
       "      <td>0.0</td>\n",
       "      <td>0.0</td>\n",
       "      <td>0.0</td>\n",
       "      <td>0.0</td>\n",
       "    </tr>\n",
       "    <tr>\n",
       "      <th>4</th>\n",
       "      <td>2021-07-06</td>\n",
       "      <td>14:00 a 15:59</td>\n",
       "      <td>0.0</td>\n",
       "      <td>0.0</td>\n",
       "      <td>0.0</td>\n",
       "      <td>0.0</td>\n",
       "    </tr>\n",
       "    <tr>\n",
       "      <th>...</th>\n",
       "      <td>...</td>\n",
       "      <td>...</td>\n",
       "      <td>...</td>\n",
       "      <td>...</td>\n",
       "      <td>...</td>\n",
       "      <td>...</td>\n",
       "    </tr>\n",
       "    <tr>\n",
       "      <th>112</th>\n",
       "      <td>2021-07-18</td>\n",
       "      <td>14:00 a 15:59</td>\n",
       "      <td>0.0</td>\n",
       "      <td>0.0</td>\n",
       "      <td>0.0</td>\n",
       "      <td>0.0</td>\n",
       "    </tr>\n",
       "    <tr>\n",
       "      <th>113</th>\n",
       "      <td>2021-07-18</td>\n",
       "      <td>16:00 a 17:59</td>\n",
       "      <td>0.0</td>\n",
       "      <td>0.0</td>\n",
       "      <td>0.0</td>\n",
       "      <td>0.0</td>\n",
       "    </tr>\n",
       "    <tr>\n",
       "      <th>114</th>\n",
       "      <td>2021-07-18</td>\n",
       "      <td>18:00 a 19:59</td>\n",
       "      <td>0.0</td>\n",
       "      <td>0.0</td>\n",
       "      <td>0.0</td>\n",
       "      <td>0.0</td>\n",
       "    </tr>\n",
       "    <tr>\n",
       "      <th>115</th>\n",
       "      <td>2021-07-18</td>\n",
       "      <td>20:00 a 21:59</td>\n",
       "      <td>0.0</td>\n",
       "      <td>0.0</td>\n",
       "      <td>0.0</td>\n",
       "      <td>0.0</td>\n",
       "    </tr>\n",
       "    <tr>\n",
       "      <th>116</th>\n",
       "      <td>2021-07-18</td>\n",
       "      <td>22:00 a 23:59</td>\n",
       "      <td>0.0</td>\n",
       "      <td>0.0</td>\n",
       "      <td>0.0</td>\n",
       "      <td>0.0</td>\n",
       "    </tr>\n",
       "  </tbody>\n",
       "</table>\n",
       "<p>159471 rows × 6 columns</p>\n",
       "</div>"
      ]
     },
     "metadata": {},
     "execution_count": 31
    }
   ],
   "metadata": {}
  },
  {
   "cell_type": "code",
   "execution_count": 32,
   "source": [
    "test.isnull().sum()"
   ],
   "outputs": [
    {
     "output_type": "execute_result",
     "data": {
      "text/plain": [
       "date                   0\n",
       "timewindow             0\n",
       "quantity               0\n",
       "quantity_found         0\n",
       "acum_quantity          0\n",
       "acum_quantity_found    0\n",
       "dtype: int64"
      ]
     },
     "metadata": {},
     "execution_count": 32
    }
   ],
   "metadata": {}
  },
  {
   "cell_type": "code",
   "execution_count": null,
   "source": [],
   "outputs": [],
   "metadata": {}
  },
  {
   "cell_type": "code",
   "execution_count": 16,
   "source": [
    "def multishift(data, id_cols, date_cols, shifts, **pivot_args):\n",
    "    df = data.copy()\n",
    "    #Merge all column names as a string\n",
    "    id_col = ','.join(id_cols)\n",
    "    #And as a column\n",
    "    df[id_col] = df[id_cols].apply(lambda x:','.join(x.dropna().astype(str)),axis=1)\n",
    "    #Drop any \"id_col\"-set that has a lower frequency than the max of the \"shifts-list\"\n",
    "    # freq = df[id_col].value_counts().to_frame()\n",
    "    # omit_idx = freq[freq[id_col]<=max(shifts)].index.to_list()\n",
    "    # if len(omit_idx)>0:\n",
    "    #     df = df[~df[id_col].isin(omit_idx)].copy()\n",
    "    #Change data structure to build the \"shifting\"\n",
    "    df = df.pivot_table(index=[id_col]+date_cols,\n",
    "                        **pivot_args,\n",
    "                        fill_value=0)\n",
    "    #Concatenate multiple columns if they are\n",
    "    df.columns = ['_'.join([x for x in col]) if \n",
    "                  not isinstance(df.columns[0],str) #First element is not a string\n",
    "                  else col for col in df.columns]\n",
    "    #Bring the id_col for taking the set (unique values) in the next loop\n",
    "    df.reset_index(inplace=True)\n",
    "    #Each shift must be calculated at \"id_col\" level\n",
    "    total = DataFrame()\n",
    "    for row in set(df[id_col]):\n",
    "        #Set the id_col as index (again) to call all the rows with that id_col\n",
    "        df_id = df.set_index(id_col).loc[row:row,:]\n",
    "        cols = df_id.columns[len(date_cols):].tolist()\n",
    "        #Start the \"shifting\"\n",
    "        aux = df_id.copy().iloc[:,len(date_cols):].reset_index(drop=True)\n",
    "        for i in shifts:\n",
    "            shifted = df_id.iloc[:,len(date_cols):].shift(i).rename(columns={x:f'{x}_{str(i).zfill(2)}'\n",
    "                                                                             for x in cols})\n",
    "            aux = aux.join(shifted.reset_index(drop=True))\n",
    "        aux[id_col] = row\n",
    "        total = total.append(aux,ignore_index=True)\n",
    "    total[[x for x in id_col.split(',')]] = total[id_col].str.split(',',expand=True)\n",
    "    total[date_cols] = df[date_cols].copy()\n",
    "    total.set_index(id_cols+date_cols, inplace=True)\n",
    "    return total[[x for x in total.columns if x not in [id_col]]]"
   ],
   "outputs": [],
   "metadata": {}
  },
  {
   "cell_type": "code",
   "execution_count": 17,
   "source": [
    "def model_structure(data, target_col):\n",
    "    X = data[[x for x in data.columns if x not in [target_col]]]\n",
    "    y = data[target_col].values\n",
    "    return X,y"
   ],
   "outputs": [],
   "metadata": {}
  },
  {
   "cell_type": "markdown",
   "source": [
    "## Transform"
   ],
   "metadata": {}
  },
  {
   "cell_type": "code",
   "execution_count": null,
   "source": [
    "aux = set_timewindows(df, DATE_COL, TIMEWINDOWS)[0]\n",
    "aux = qty_acum(aux.head(33),DATE_COL, ['product_id','date'], 'quantity', 'quantity_found')\n",
    "aux"
   ],
   "outputs": [],
   "metadata": {}
  },
  {
   "cell_type": "code",
   "execution_count": 30,
   "source": [
    "df,timewindows = set_timewindows(df, DATE_COL, TIMEWINDOWS)\n",
    "timewindows"
   ],
   "outputs": [
    {
     "output_type": "execute_result",
     "data": {
      "text/plain": [
       "{'00:00 a 08:59',\n",
       " '09:00 a 10:59',\n",
       " '11:00 a 11:59',\n",
       " '12:00 a 13:59',\n",
       " '14:00 a 15:59',\n",
       " '16:00 a 17:59',\n",
       " '18:00 a 19:59',\n",
       " '20:00 a 21:59',\n",
       " '22:00 a 23:59'}"
      ]
     },
     "metadata": {},
     "execution_count": 30
    }
   ],
   "metadata": {}
  },
  {
   "cell_type": "code",
   "execution_count": 68,
   "source": [
    "tw = DataFrame(timewindows,columns=['timewindow']).sort_values('timewindow')\n",
    "df_aux = DataFrame(sset(aux['timewindow']),columns=['timewindow'])\n",
    "df_aux['isin'] = 1\n",
    "tw = tw.merge(df_aux, how='left')\n",
    "first_tw = tw['isin'].first_valid_index()\n",
    "last_tw = tw['isin'].last_valid_index()\n",
    "tw['isin'].loc[first_tw:last_tw] = tw['isin'].loc[first_tw:last_tw].ffill()\n",
    "tw.dropna().merge(aux, how='left')"
   ],
   "outputs": [
    {
     "output_type": "stream",
     "name": "stderr",
     "text": [
      "/Users/efraflores/Desktop/hub/stock_forecast/stock_venv/lib/python3.9/site-packages/pandas/core/indexing.py:1732: SettingWithCopyWarning: \n",
      "A value is trying to be set on a copy of a slice from a DataFrame\n",
      "\n",
      "See the caveats in the documentation: https://pandas.pydata.org/pandas-docs/stable/user_guide/indexing.html#returning-a-view-versus-a-copy\n",
      "  self._setitem_single_block(indexer, value, name)\n"
     ]
    },
    {
     "output_type": "execute_result",
     "data": {
      "text/plain": [
       "      timewindow  isin       actual_delivery_time  product_id  quantity  \\\n",
       "0  11:00 a 11:59   1.0 2021-07-11 11:20:25.508505   1235786.0     0.300   \n",
       "1  12:00 a 13:59   1.0 2021-07-18 12:01:06.129280   1579075.0     2.000   \n",
       "2  12:00 a 13:59   1.0 2021-07-15 13:45:46.632610   2011111.0     0.396   \n",
       "3  14:00 a 15:59   1.0                        NaT         NaN       NaN   \n",
       "4  16:00 a 17:59   1.0                        NaT         NaN       NaN   \n",
       "5  18:00 a 19:59   1.0 2021-07-18 18:01:13.027754    335747.0     1.000   \n",
       "\n",
       "   quantity_found       date      time  \n",
       "0           0.555 2021-07-11  11:20:25  \n",
       "1           2.000 2021-07-18  12:01:06  \n",
       "2           0.350 2021-07-15  13:45:46  \n",
       "3             NaN        NaT       NaN  \n",
       "4             NaN        NaT       NaN  \n",
       "5           1.000 2021-07-18  18:01:13  "
      ],
      "text/html": [
       "<div>\n",
       "<style scoped>\n",
       "    .dataframe tbody tr th:only-of-type {\n",
       "        vertical-align: middle;\n",
       "    }\n",
       "\n",
       "    .dataframe tbody tr th {\n",
       "        vertical-align: top;\n",
       "    }\n",
       "\n",
       "    .dataframe thead th {\n",
       "        text-align: right;\n",
       "    }\n",
       "</style>\n",
       "<table border=\"1\" class=\"dataframe\">\n",
       "  <thead>\n",
       "    <tr style=\"text-align: right;\">\n",
       "      <th></th>\n",
       "      <th>timewindow</th>\n",
       "      <th>isin</th>\n",
       "      <th>actual_delivery_time</th>\n",
       "      <th>product_id</th>\n",
       "      <th>quantity</th>\n",
       "      <th>quantity_found</th>\n",
       "      <th>date</th>\n",
       "      <th>time</th>\n",
       "    </tr>\n",
       "  </thead>\n",
       "  <tbody>\n",
       "    <tr>\n",
       "      <th>0</th>\n",
       "      <td>11:00 a 11:59</td>\n",
       "      <td>1.0</td>\n",
       "      <td>2021-07-11 11:20:25.508505</td>\n",
       "      <td>1235786.0</td>\n",
       "      <td>0.300</td>\n",
       "      <td>0.555</td>\n",
       "      <td>2021-07-11</td>\n",
       "      <td>11:20:25</td>\n",
       "    </tr>\n",
       "    <tr>\n",
       "      <th>1</th>\n",
       "      <td>12:00 a 13:59</td>\n",
       "      <td>1.0</td>\n",
       "      <td>2021-07-18 12:01:06.129280</td>\n",
       "      <td>1579075.0</td>\n",
       "      <td>2.000</td>\n",
       "      <td>2.000</td>\n",
       "      <td>2021-07-18</td>\n",
       "      <td>12:01:06</td>\n",
       "    </tr>\n",
       "    <tr>\n",
       "      <th>2</th>\n",
       "      <td>12:00 a 13:59</td>\n",
       "      <td>1.0</td>\n",
       "      <td>2021-07-15 13:45:46.632610</td>\n",
       "      <td>2011111.0</td>\n",
       "      <td>0.396</td>\n",
       "      <td>0.350</td>\n",
       "      <td>2021-07-15</td>\n",
       "      <td>13:45:46</td>\n",
       "    </tr>\n",
       "    <tr>\n",
       "      <th>3</th>\n",
       "      <td>14:00 a 15:59</td>\n",
       "      <td>1.0</td>\n",
       "      <td>NaT</td>\n",
       "      <td>NaN</td>\n",
       "      <td>NaN</td>\n",
       "      <td>NaN</td>\n",
       "      <td>NaT</td>\n",
       "      <td>NaN</td>\n",
       "    </tr>\n",
       "    <tr>\n",
       "      <th>4</th>\n",
       "      <td>16:00 a 17:59</td>\n",
       "      <td>1.0</td>\n",
       "      <td>NaT</td>\n",
       "      <td>NaN</td>\n",
       "      <td>NaN</td>\n",
       "      <td>NaN</td>\n",
       "      <td>NaT</td>\n",
       "      <td>NaN</td>\n",
       "    </tr>\n",
       "    <tr>\n",
       "      <th>5</th>\n",
       "      <td>18:00 a 19:59</td>\n",
       "      <td>1.0</td>\n",
       "      <td>2021-07-18 18:01:13.027754</td>\n",
       "      <td>335747.0</td>\n",
       "      <td>1.000</td>\n",
       "      <td>1.000</td>\n",
       "      <td>2021-07-18</td>\n",
       "      <td>18:01:13</td>\n",
       "    </tr>\n",
       "  </tbody>\n",
       "</table>\n",
       "</div>"
      ]
     },
     "metadata": {},
     "execution_count": 68
    }
   ],
   "metadata": {}
  },
  {
   "cell_type": "code",
   "execution_count": null,
   "source": [],
   "outputs": [],
   "metadata": {}
  },
  {
   "cell_type": "code",
   "execution_count": null,
   "source": [],
   "outputs": [],
   "metadata": {}
  },
  {
   "cell_type": "code",
   "execution_count": null,
   "source": [
    "df = found_rate(df, REQUESTED_COL, FOUND_COL)\n",
    "shifted = multishift(df, id_cols=['product_id'], date_cols=['date','timewindow'], shifts=range(1,5), values='fr', aggfunc='mean')\n",
    "X,y = model_structure(shifted, 'fr')"
   ],
   "outputs": [],
   "metadata": {}
  },
  {
   "cell_type": "markdown",
   "source": [
    "## Training"
   ],
   "metadata": {}
  },
  {
   "cell_type": "code",
   "execution_count": 12,
   "source": [
    "shifted.head(10)"
   ],
   "outputs": [
    {
     "output_type": "execute_result",
     "data": {
      "text/plain": [
       "                                      fr  fr_01  fr_02  fr_03  fr_04\n",
       "product_id date       timewindow                                    \n",
       "117866     2021-07-12 18:00 a 19:59  1.0    NaN    NaN    NaN    NaN\n",
       "435655     2021-07-10 00:00 a 08:59  1.0    NaN    NaN    NaN    NaN\n",
       "           2021-07-17 11:00 a 11:59  1.0    1.0    NaN    NaN    NaN\n",
       "1071278    2021-07-18 18:00 a 19:59  1.0    NaN    NaN    NaN    NaN\n",
       "357342     2021-07-08 14:00 a 15:59  1.0    NaN    NaN    NaN    NaN\n",
       "                      09:00 a 10:59  1.0    1.0    NaN    NaN    NaN\n",
       "336765     2021-07-15 00:00 a 08:59  1.0    NaN    NaN    NaN    NaN\n",
       "                      16:00 a 17:59  0.0    1.0    NaN    NaN    NaN\n",
       "           2021-07-18 12:00 a 13:59  0.0    0.0    1.0    NaN    NaN\n",
       "314647     2021-07-13 18:00 a 19:59  1.0    NaN    NaN    NaN    NaN"
      ],
      "text/html": [
       "<div>\n",
       "<style scoped>\n",
       "    .dataframe tbody tr th:only-of-type {\n",
       "        vertical-align: middle;\n",
       "    }\n",
       "\n",
       "    .dataframe tbody tr th {\n",
       "        vertical-align: top;\n",
       "    }\n",
       "\n",
       "    .dataframe thead th {\n",
       "        text-align: right;\n",
       "    }\n",
       "</style>\n",
       "<table border=\"1\" class=\"dataframe\">\n",
       "  <thead>\n",
       "    <tr style=\"text-align: right;\">\n",
       "      <th></th>\n",
       "      <th></th>\n",
       "      <th></th>\n",
       "      <th>fr</th>\n",
       "      <th>fr_01</th>\n",
       "      <th>fr_02</th>\n",
       "      <th>fr_03</th>\n",
       "      <th>fr_04</th>\n",
       "    </tr>\n",
       "    <tr>\n",
       "      <th>product_id</th>\n",
       "      <th>date</th>\n",
       "      <th>timewindow</th>\n",
       "      <th></th>\n",
       "      <th></th>\n",
       "      <th></th>\n",
       "      <th></th>\n",
       "      <th></th>\n",
       "    </tr>\n",
       "  </thead>\n",
       "  <tbody>\n",
       "    <tr>\n",
       "      <th>117866</th>\n",
       "      <th>2021-07-12</th>\n",
       "      <th>18:00 a 19:59</th>\n",
       "      <td>1.0</td>\n",
       "      <td>NaN</td>\n",
       "      <td>NaN</td>\n",
       "      <td>NaN</td>\n",
       "      <td>NaN</td>\n",
       "    </tr>\n",
       "    <tr>\n",
       "      <th rowspan=\"2\" valign=\"top\">435655</th>\n",
       "      <th>2021-07-10</th>\n",
       "      <th>00:00 a 08:59</th>\n",
       "      <td>1.0</td>\n",
       "      <td>NaN</td>\n",
       "      <td>NaN</td>\n",
       "      <td>NaN</td>\n",
       "      <td>NaN</td>\n",
       "    </tr>\n",
       "    <tr>\n",
       "      <th>2021-07-17</th>\n",
       "      <th>11:00 a 11:59</th>\n",
       "      <td>1.0</td>\n",
       "      <td>1.0</td>\n",
       "      <td>NaN</td>\n",
       "      <td>NaN</td>\n",
       "      <td>NaN</td>\n",
       "    </tr>\n",
       "    <tr>\n",
       "      <th>1071278</th>\n",
       "      <th>2021-07-18</th>\n",
       "      <th>18:00 a 19:59</th>\n",
       "      <td>1.0</td>\n",
       "      <td>NaN</td>\n",
       "      <td>NaN</td>\n",
       "      <td>NaN</td>\n",
       "      <td>NaN</td>\n",
       "    </tr>\n",
       "    <tr>\n",
       "      <th rowspan=\"2\" valign=\"top\">357342</th>\n",
       "      <th rowspan=\"2\" valign=\"top\">2021-07-08</th>\n",
       "      <th>14:00 a 15:59</th>\n",
       "      <td>1.0</td>\n",
       "      <td>NaN</td>\n",
       "      <td>NaN</td>\n",
       "      <td>NaN</td>\n",
       "      <td>NaN</td>\n",
       "    </tr>\n",
       "    <tr>\n",
       "      <th>09:00 a 10:59</th>\n",
       "      <td>1.0</td>\n",
       "      <td>1.0</td>\n",
       "      <td>NaN</td>\n",
       "      <td>NaN</td>\n",
       "      <td>NaN</td>\n",
       "    </tr>\n",
       "    <tr>\n",
       "      <th rowspan=\"3\" valign=\"top\">336765</th>\n",
       "      <th rowspan=\"2\" valign=\"top\">2021-07-15</th>\n",
       "      <th>00:00 a 08:59</th>\n",
       "      <td>1.0</td>\n",
       "      <td>NaN</td>\n",
       "      <td>NaN</td>\n",
       "      <td>NaN</td>\n",
       "      <td>NaN</td>\n",
       "    </tr>\n",
       "    <tr>\n",
       "      <th>16:00 a 17:59</th>\n",
       "      <td>0.0</td>\n",
       "      <td>1.0</td>\n",
       "      <td>NaN</td>\n",
       "      <td>NaN</td>\n",
       "      <td>NaN</td>\n",
       "    </tr>\n",
       "    <tr>\n",
       "      <th>2021-07-18</th>\n",
       "      <th>12:00 a 13:59</th>\n",
       "      <td>0.0</td>\n",
       "      <td>0.0</td>\n",
       "      <td>1.0</td>\n",
       "      <td>NaN</td>\n",
       "      <td>NaN</td>\n",
       "    </tr>\n",
       "    <tr>\n",
       "      <th>314647</th>\n",
       "      <th>2021-07-13</th>\n",
       "      <th>18:00 a 19:59</th>\n",
       "      <td>1.0</td>\n",
       "      <td>NaN</td>\n",
       "      <td>NaN</td>\n",
       "      <td>NaN</td>\n",
       "      <td>NaN</td>\n",
       "    </tr>\n",
       "  </tbody>\n",
       "</table>\n",
       "</div>"
      ]
     },
     "metadata": {},
     "execution_count": 12
    }
   ],
   "metadata": {}
  },
  {
   "cell_type": "code",
   "execution_count": null,
   "source": [
    "################ MAKE THE SHIFTS CONSIDER ALL TIME WINDOWS (OR JUST FROM THE LOWEST TO THE HIGHEST)"
   ],
   "outputs": [],
   "metadata": {}
  }
 ]
}